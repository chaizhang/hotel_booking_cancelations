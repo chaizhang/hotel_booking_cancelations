{
 "cells": [
  {
   "cell_type": "markdown",
   "metadata": {},
   "source": [
    "#### To predict whether a hotel booking will be canceled and identify the key factors influencing cancellations, we believe the following variables from the dataset are worth examining:\n",
    "\n",
    "1. __lead_time__: Longer lead times (time between booking and arrival) might increase the likelihood of cancellations due to changes in guest plans.\n",
    "2. __stays_total_nights__: The length of stay might impact cancellations; shorter stays might be more prone to changes or cancellations.\n",
    "3. __adults, children,__ and __babies__: The number of people in the booking (especially families) might influence the likelihood of cancellation.\n",
    "4. __market_segment__: This captures whether the booking came through a direct channel, travel agent, or corporate contract, which could influence cancellation rates.\n",
    "5. __distribution_channel__: The platform through which the booking was made (e.g., online travel agency, direct) could also affect cancellation behavior.\n",
    "6. __is_repeated__: Repeat guests may be less likely to cancel their bookings compared to first-time customers.\n",
    "7. __previous_cancellations__ and __previous_booking_not_canceled__: Customers with a history of canceling bookings are more likely to cancel again.\n",
    "8. __deposit_type__: Whether a deposit was required or not (e.g., non-refundable deposits may reduce cancellations).\n",
    "9. __days_in_waiting_list__: Bookings placed on a waiting list might have a higher likelihood of being canceled.\n",
    "10. __customer_type__: Different types of customers (transient, group, contract) might have varying cancellation patterns.\n",
    "11. __adr__ (Average Daily Rate): The cost of the booking might influence cancellation behavior, with higher rates possibly leading to a higher cancellation rate if guests find cheaper alternatives.\n",
    "13. __total_of_special_requests__ and __meal__: A higher number of special requests or a more expensive meal plan may indicate more committed guests, potentially reducing cancellations.\n",
    "12. __required_car_parking_spaces__: This could suggest guests traveling by car, which might correlate with lower cancellation rates compared to guests relying on flights or other transport.\n"
   ]
  },
  {
   "cell_type": "code",
   "execution_count": 5,
   "metadata": {},
   "outputs": [
    {
     "name": "stderr",
     "output_type": "stream",
     "text": [
      "Matplotlib is building the font cache; this may take a moment.\n"
     ]
    }
   ],
   "source": [
    "#import packages\n",
    "import matplotlib.pyplot as plt \n",
    "import seaborn as sns\n",
    "import pandas as pd\n",
    "import numpy as np"
   ]
  },
  {
   "cell_type": "code",
   "execution_count": 6,
   "metadata": {},
   "outputs": [
    {
     "name": "stderr",
     "output_type": "stream",
     "text": [
      "<>:1: SyntaxWarning: invalid escape sequence '\\c'\n",
      "<>:1: SyntaxWarning: invalid escape sequence '\\c'\n",
      "C:\\Users\\User\\AppData\\Local\\Temp\\ipykernel_20640\\1794776598.py:1: SyntaxWarning: invalid escape sequence '\\c'\n",
      "  hotel  = pd.read_csv('data\\cleaned_hotel_booking.csv')\n"
     ]
    }
   ],
   "source": [
    "hotel  = pd.read_csv('data\\cleaned_hotel_booking.csv')"
   ]
  },
  {
   "cell_type": "code",
   "execution_count": null,
   "metadata": {},
   "outputs": [],
   "source": []
  }
 ],
 "metadata": {
  "kernelspec": {
   "display_name": "Python 3",
   "language": "python",
   "name": "python3"
  },
  "language_info": {
   "codemirror_mode": {
    "name": "ipython",
    "version": 3
   },
   "file_extension": ".py",
   "mimetype": "text/x-python",
   "name": "python",
   "nbconvert_exporter": "python",
   "pygments_lexer": "ipython3",
   "version": "3.12.6"
  }
 },
 "nbformat": 4,
 "nbformat_minor": 2
}
